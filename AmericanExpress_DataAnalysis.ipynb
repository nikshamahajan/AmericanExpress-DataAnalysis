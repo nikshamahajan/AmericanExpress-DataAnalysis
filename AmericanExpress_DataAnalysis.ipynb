{
  "nbformat": 4,
  "nbformat_minor": 0,
  "metadata": {
    "colab": {
      "provenance": []
    },
    "kernelspec": {
      "name": "python3",
      "display_name": "Python 3"
    },
    "language_info": {
      "name": "python"
    }
  },
  "cells": [
    {
      "cell_type": "code",
      "execution_count": 195,
      "metadata": {
        "id": "QY-zx-FysJYF"
      },
      "outputs": [],
      "source": [
        "import numpy as np\n",
        "import pandas as pd\n",
        "import tensorflow as tf\n"
      ]
    },
    {
      "cell_type": "code",
      "source": [
        "dataset=pd.read_csv(\"/content/Dataset_master - American Express User Exit Pred.csv\")\n",
        "X=dataset.iloc[:,0:-1].values\n",
        "y=dataset.iloc[:,-1].values"
      ],
      "metadata": {
        "id": "tSBCm3pbsfgX"
      },
      "execution_count": 196,
      "outputs": []
    },
    {
      "cell_type": "code",
      "source": [
        "print(X)"
      ],
      "metadata": {
        "colab": {
          "base_uri": "https://localhost:8080/"
        },
        "id": "8tK8GHlFs8Hb",
        "outputId": "484d3d28-3804-4774-b467-837d9e16b3b2"
      },
      "execution_count": 197,
      "outputs": [
        {
          "output_type": "stream",
          "name": "stdout",
          "text": [
            "[[553 'Delhi' 'Female' ... 4 1 274150]\n",
            " [447 'Bengaluru' 'Male' ... 4 1 519360]\n",
            " [501 'Delhi' 'Female' ... 4 1 545501]\n",
            " ...\n",
            " [627 'Mumbai' 'Female' ... 4 0 494067]\n",
            " [600 'Bengaluru' 'Female' ... 2 1 109375]\n",
            " [553 'Delhi' 'Male' ... 4 1 180031]]\n"
          ]
        }
      ]
    },
    {
      "cell_type": "code",
      "source": [
        "from sklearn.preprocessing import LabelEncoder\n",
        "label_encoder=LabelEncoder()\n",
        "X[:,2]=label_encoder.fit_transform(X[:,2])"
      ],
      "metadata": {
        "id": "LxtBTFnf3s-R"
      },
      "execution_count": 198,
      "outputs": []
    },
    {
      "cell_type": "code",
      "source": [
        "from sklearn.compose import ColumnTransformer\n",
        "from sklearn.preprocessing import OneHotEncoder\n",
        "ct = ColumnTransformer(transformers=[('encoder',OneHotEncoder(),[1])],remainder='passthrough')\n",
        "X=np.array(ct.fit_transform(X))\n"
      ],
      "metadata": {
        "id": "r9pX_pRGtIqi"
      },
      "execution_count": 199,
      "outputs": []
    },
    {
      "cell_type": "code",
      "source": [
        "print(X)"
      ],
      "metadata": {
        "colab": {
          "base_uri": "https://localhost:8080/"
        },
        "id": "0sYot98AvWx5",
        "outputId": "570a5584-ce17-4e31-9a04-a6e430bbef21"
      },
      "execution_count": 200,
      "outputs": [
        {
          "output_type": "stream",
          "name": "stdout",
          "text": [
            "[[0.0 1.0 0.0 ... 4 1 274150]\n",
            " [1.0 0.0 0.0 ... 4 1 519360]\n",
            " [0.0 1.0 0.0 ... 4 1 545501]\n",
            " ...\n",
            " [0.0 0.0 1.0 ... 4 0 494067]\n",
            " [1.0 0.0 0.0 ... 2 1 109375]\n",
            " [0.0 1.0 0.0 ... 4 1 180031]]\n"
          ]
        }
      ]
    },
    {
      "cell_type": "code",
      "source": [
        "from sklearn.model_selection import train_test_split\n",
        "X_train, X_test, y_train, y_test = train_test_split(X,y,test_size=0.2,random_state= 0)"
      ],
      "metadata": {
        "id": "4xiNrgO7vXzQ"
      },
      "execution_count": 201,
      "outputs": []
    },
    {
      "cell_type": "code",
      "source": [
        "X"
      ],
      "metadata": {
        "colab": {
          "base_uri": "https://localhost:8080/"
        },
        "id": "7sKakFfo2OXe",
        "outputId": "3591975e-ec28-4052-e4aa-705aa2c664bf"
      },
      "execution_count": 202,
      "outputs": [
        {
          "output_type": "execute_result",
          "data": {
            "text/plain": [
              "array([[0.0, 1.0, 0.0, ..., 4, 1, 274150],\n",
              "       [1.0, 0.0, 0.0, ..., 4, 1, 519360],\n",
              "       [0.0, 1.0, 0.0, ..., 4, 1, 545501],\n",
              "       ...,\n",
              "       [0.0, 0.0, 1.0, ..., 4, 0, 494067],\n",
              "       [1.0, 0.0, 0.0, ..., 2, 1, 109375],\n",
              "       [0.0, 1.0, 0.0, ..., 4, 1, 180031]], dtype=object)"
            ]
          },
          "metadata": {},
          "execution_count": 202
        }
      ]
    },
    {
      "cell_type": "code",
      "source": [
        "from sklearn.preprocessing import StandardScaler\n",
        "sc= StandardScaler()\n",
        "X_train = sc.fit_transform(X_train)\n",
        "X_test= sc.transform(X_test)\n"
      ],
      "metadata": {
        "id": "GNWfNnC-vrIG"
      },
      "execution_count": 203,
      "outputs": []
    },
    {
      "cell_type": "code",
      "source": [
        "ann=tf.keras.models.Sequential()"
      ],
      "metadata": {
        "id": "7gpwaAFuvy8H"
      },
      "execution_count": 204,
      "outputs": []
    },
    {
      "cell_type": "code",
      "source": [
        "ann.add(tf.keras.layers.Dense(units=6,activation='relu'))"
      ],
      "metadata": {
        "id": "br33FkhOwvw5"
      },
      "execution_count": 226,
      "outputs": []
    },
    {
      "cell_type": "code",
      "source": [
        "ann.add(tf.keras.layers.Dense(units=6,activation='relu'))"
      ],
      "metadata": {
        "id": "fFzG8FaJw8ds"
      },
      "execution_count": 227,
      "outputs": []
    },
    {
      "cell_type": "code",
      "source": [
        "ann.add(tf.keras.layers.Dense(units=1,activation='sigmoid'))"
      ],
      "metadata": {
        "id": "iLLKorSMxG2v"
      },
      "execution_count": 228,
      "outputs": []
    },
    {
      "cell_type": "code",
      "source": [
        "ann.compile(optimizer='adam',loss='binary_crossentropy',metrics=['accuracy'])"
      ],
      "metadata": {
        "id": "teCRcrNixJ46"
      },
      "execution_count": 233,
      "outputs": []
    },
    {
      "cell_type": "code",
      "source": [
        "ann.fit(X_train,y_train,batch_size=32,epochs=120)"
      ],
      "metadata": {
        "colab": {
          "base_uri": "https://localhost:8080/"
        },
        "id": "_SksFok4zFk0",
        "outputId": "1d61fa73-0421-480b-f3f2-cf6ca49904e8"
      },
      "execution_count": 235,
      "outputs": [
        {
          "output_type": "stream",
          "name": "stdout",
          "text": [
            "Epoch 1/120\n",
            "249/249 [==============================] - 2s 3ms/step - loss: 0.5555 - accuracy: 0.7858\n",
            "Epoch 2/120\n",
            "249/249 [==============================] - 1s 3ms/step - loss: 0.4027 - accuracy: 0.8483\n",
            "Epoch 3/120\n",
            "249/249 [==============================] - 1s 3ms/step - loss: 0.3710 - accuracy: 0.8486\n",
            "Epoch 4/120\n",
            "249/249 [==============================] - 0s 2ms/step - loss: 0.3660 - accuracy: 0.8474\n",
            "Epoch 5/120\n",
            "249/249 [==============================] - 1s 2ms/step - loss: 0.3644 - accuracy: 0.8464\n",
            "Epoch 6/120\n",
            "249/249 [==============================] - 1s 2ms/step - loss: 0.3625 - accuracy: 0.8488\n",
            "Epoch 7/120\n",
            "249/249 [==============================] - 0s 2ms/step - loss: 0.3625 - accuracy: 0.8508\n",
            "Epoch 8/120\n",
            "249/249 [==============================] - 0s 2ms/step - loss: 0.3636 - accuracy: 0.8483\n",
            "Epoch 9/120\n",
            "249/249 [==============================] - 0s 2ms/step - loss: 0.3619 - accuracy: 0.8509\n",
            "Epoch 10/120\n",
            "249/249 [==============================] - 0s 2ms/step - loss: 0.3611 - accuracy: 0.8483\n",
            "Epoch 11/120\n",
            "249/249 [==============================] - 0s 2ms/step - loss: 0.3611 - accuracy: 0.8491\n",
            "Epoch 12/120\n",
            "249/249 [==============================] - 0s 2ms/step - loss: 0.3617 - accuracy: 0.8470\n",
            "Epoch 13/120\n",
            "249/249 [==============================] - 1s 2ms/step - loss: 0.3617 - accuracy: 0.8494\n",
            "Epoch 14/120\n",
            "249/249 [==============================] - 0s 2ms/step - loss: 0.3607 - accuracy: 0.8498\n",
            "Epoch 15/120\n",
            "249/249 [==============================] - 1s 2ms/step - loss: 0.3608 - accuracy: 0.8480\n",
            "Epoch 16/120\n",
            "249/249 [==============================] - 0s 2ms/step - loss: 0.3598 - accuracy: 0.8512\n",
            "Epoch 17/120\n",
            "249/249 [==============================] - 0s 2ms/step - loss: 0.3602 - accuracy: 0.8496\n",
            "Epoch 18/120\n",
            "249/249 [==============================] - 0s 2ms/step - loss: 0.3603 - accuracy: 0.8493\n",
            "Epoch 19/120\n",
            "249/249 [==============================] - 1s 2ms/step - loss: 0.3604 - accuracy: 0.8506\n",
            "Epoch 20/120\n",
            "249/249 [==============================] - 0s 2ms/step - loss: 0.3608 - accuracy: 0.8512\n",
            "Epoch 21/120\n",
            "249/249 [==============================] - 1s 2ms/step - loss: 0.3604 - accuracy: 0.8493\n",
            "Epoch 22/120\n",
            "249/249 [==============================] - 1s 2ms/step - loss: 0.3606 - accuracy: 0.8501\n",
            "Epoch 23/120\n",
            "249/249 [==============================] - 1s 2ms/step - loss: 0.3598 - accuracy: 0.8495\n",
            "Epoch 24/120\n",
            "249/249 [==============================] - 1s 3ms/step - loss: 0.3598 - accuracy: 0.8493\n",
            "Epoch 25/120\n",
            "249/249 [==============================] - 1s 3ms/step - loss: 0.3603 - accuracy: 0.8486\n",
            "Epoch 26/120\n",
            "249/249 [==============================] - 1s 3ms/step - loss: 0.3609 - accuracy: 0.8472\n",
            "Epoch 27/120\n",
            "249/249 [==============================] - 1s 2ms/step - loss: 0.3597 - accuracy: 0.8505\n",
            "Epoch 28/120\n",
            "249/249 [==============================] - 1s 2ms/step - loss: 0.3598 - accuracy: 0.8494\n",
            "Epoch 29/120\n",
            "249/249 [==============================] - 1s 2ms/step - loss: 0.3597 - accuracy: 0.8480\n",
            "Epoch 30/120\n",
            "249/249 [==============================] - 0s 2ms/step - loss: 0.3598 - accuracy: 0.8495\n",
            "Epoch 31/120\n",
            "249/249 [==============================] - 0s 2ms/step - loss: 0.3595 - accuracy: 0.8515\n",
            "Epoch 32/120\n",
            "249/249 [==============================] - 0s 2ms/step - loss: 0.3594 - accuracy: 0.8500\n",
            "Epoch 33/120\n",
            "249/249 [==============================] - 1s 2ms/step - loss: 0.3596 - accuracy: 0.8489\n",
            "Epoch 34/120\n",
            "249/249 [==============================] - 0s 2ms/step - loss: 0.3597 - accuracy: 0.8499\n",
            "Epoch 35/120\n",
            "249/249 [==============================] - 0s 2ms/step - loss: 0.3594 - accuracy: 0.8509\n",
            "Epoch 36/120\n",
            "249/249 [==============================] - 0s 2ms/step - loss: 0.3597 - accuracy: 0.8509\n",
            "Epoch 37/120\n",
            "249/249 [==============================] - 1s 2ms/step - loss: 0.3598 - accuracy: 0.8494\n",
            "Epoch 38/120\n",
            "249/249 [==============================] - 0s 2ms/step - loss: 0.3593 - accuracy: 0.8509\n",
            "Epoch 39/120\n",
            "249/249 [==============================] - 1s 2ms/step - loss: 0.3594 - accuracy: 0.8484\n",
            "Epoch 40/120\n",
            "249/249 [==============================] - 0s 2ms/step - loss: 0.3594 - accuracy: 0.8504\n",
            "Epoch 41/120\n",
            "249/249 [==============================] - 0s 2ms/step - loss: 0.3593 - accuracy: 0.8498\n",
            "Epoch 42/120\n",
            "249/249 [==============================] - 0s 2ms/step - loss: 0.3593 - accuracy: 0.8495\n",
            "Epoch 43/120\n",
            "249/249 [==============================] - 0s 2ms/step - loss: 0.3595 - accuracy: 0.8500\n",
            "Epoch 44/120\n",
            "249/249 [==============================] - 0s 2ms/step - loss: 0.3597 - accuracy: 0.8489\n",
            "Epoch 45/120\n",
            "249/249 [==============================] - 1s 2ms/step - loss: 0.3592 - accuracy: 0.8490\n",
            "Epoch 46/120\n",
            "249/249 [==============================] - 0s 2ms/step - loss: 0.3596 - accuracy: 0.8484\n",
            "Epoch 47/120\n",
            "249/249 [==============================] - 1s 3ms/step - loss: 0.3584 - accuracy: 0.8505\n",
            "Epoch 48/120\n",
            "249/249 [==============================] - 1s 3ms/step - loss: 0.3592 - accuracy: 0.8499\n",
            "Epoch 49/120\n",
            "249/249 [==============================] - 1s 3ms/step - loss: 0.3586 - accuracy: 0.8506\n",
            "Epoch 50/120\n",
            "249/249 [==============================] - 1s 3ms/step - loss: 0.3586 - accuracy: 0.8498\n",
            "Epoch 51/120\n",
            "249/249 [==============================] - 0s 2ms/step - loss: 0.3588 - accuracy: 0.8494\n",
            "Epoch 52/120\n",
            "249/249 [==============================] - 1s 2ms/step - loss: 0.3591 - accuracy: 0.8486\n",
            "Epoch 53/120\n",
            "249/249 [==============================] - 0s 2ms/step - loss: 0.3584 - accuracy: 0.8514\n",
            "Epoch 54/120\n",
            "249/249 [==============================] - 0s 2ms/step - loss: 0.3586 - accuracy: 0.8483\n",
            "Epoch 55/120\n",
            "249/249 [==============================] - 0s 2ms/step - loss: 0.3589 - accuracy: 0.8505\n",
            "Epoch 56/120\n",
            "249/249 [==============================] - 0s 2ms/step - loss: 0.3584 - accuracy: 0.8483\n",
            "Epoch 57/120\n",
            "249/249 [==============================] - 0s 2ms/step - loss: 0.3594 - accuracy: 0.8513\n",
            "Epoch 58/120\n",
            "249/249 [==============================] - 0s 2ms/step - loss: 0.3593 - accuracy: 0.8499\n",
            "Epoch 59/120\n",
            "249/249 [==============================] - 0s 2ms/step - loss: 0.3585 - accuracy: 0.8485\n",
            "Epoch 60/120\n",
            "249/249 [==============================] - 1s 2ms/step - loss: 0.3599 - accuracy: 0.8496\n",
            "Epoch 61/120\n",
            "249/249 [==============================] - 1s 2ms/step - loss: 0.3589 - accuracy: 0.8506\n",
            "Epoch 62/120\n",
            "249/249 [==============================] - 0s 2ms/step - loss: 0.3589 - accuracy: 0.8496\n",
            "Epoch 63/120\n",
            "249/249 [==============================] - 0s 2ms/step - loss: 0.3587 - accuracy: 0.8490\n",
            "Epoch 64/120\n",
            "249/249 [==============================] - 1s 2ms/step - loss: 0.3587 - accuracy: 0.8512\n",
            "Epoch 65/120\n",
            "249/249 [==============================] - 0s 2ms/step - loss: 0.3593 - accuracy: 0.8481\n",
            "Epoch 66/120\n",
            "249/249 [==============================] - 0s 2ms/step - loss: 0.3586 - accuracy: 0.8486\n",
            "Epoch 67/120\n",
            "249/249 [==============================] - 1s 2ms/step - loss: 0.3582 - accuracy: 0.8506\n",
            "Epoch 68/120\n",
            "249/249 [==============================] - 0s 2ms/step - loss: 0.3589 - accuracy: 0.8496\n",
            "Epoch 69/120\n",
            "249/249 [==============================] - 0s 2ms/step - loss: 0.3590 - accuracy: 0.8500\n",
            "Epoch 70/120\n",
            "249/249 [==============================] - 1s 2ms/step - loss: 0.3587 - accuracy: 0.8495\n",
            "Epoch 71/120\n",
            "249/249 [==============================] - 1s 3ms/step - loss: 0.3587 - accuracy: 0.8496\n",
            "Epoch 72/120\n",
            "249/249 [==============================] - 1s 3ms/step - loss: 0.3585 - accuracy: 0.8515\n",
            "Epoch 73/120\n",
            "249/249 [==============================] - 1s 3ms/step - loss: 0.3591 - accuracy: 0.8498\n",
            "Epoch 74/120\n",
            "249/249 [==============================] - 1s 3ms/step - loss: 0.3584 - accuracy: 0.8491\n",
            "Epoch 75/120\n",
            "249/249 [==============================] - 0s 2ms/step - loss: 0.3578 - accuracy: 0.8506\n",
            "Epoch 76/120\n",
            "249/249 [==============================] - 0s 2ms/step - loss: 0.3585 - accuracy: 0.8478\n",
            "Epoch 77/120\n",
            "249/249 [==============================] - 1s 2ms/step - loss: 0.3586 - accuracy: 0.8495\n",
            "Epoch 78/120\n",
            "249/249 [==============================] - 0s 2ms/step - loss: 0.3582 - accuracy: 0.8488\n",
            "Epoch 79/120\n",
            "249/249 [==============================] - 1s 2ms/step - loss: 0.3581 - accuracy: 0.8490\n",
            "Epoch 80/120\n",
            "249/249 [==============================] - 0s 2ms/step - loss: 0.3588 - accuracy: 0.8512\n",
            "Epoch 81/120\n",
            "249/249 [==============================] - 0s 2ms/step - loss: 0.3584 - accuracy: 0.8494\n",
            "Epoch 82/120\n",
            "249/249 [==============================] - 0s 2ms/step - loss: 0.3588 - accuracy: 0.8491\n",
            "Epoch 83/120\n",
            "249/249 [==============================] - 1s 2ms/step - loss: 0.3582 - accuracy: 0.8495\n",
            "Epoch 84/120\n",
            "249/249 [==============================] - 0s 2ms/step - loss: 0.3581 - accuracy: 0.8515\n",
            "Epoch 85/120\n",
            "249/249 [==============================] - 0s 2ms/step - loss: 0.3591 - accuracy: 0.8498\n",
            "Epoch 86/120\n",
            "249/249 [==============================] - 0s 2ms/step - loss: 0.3583 - accuracy: 0.8518\n",
            "Epoch 87/120\n",
            "249/249 [==============================] - 0s 2ms/step - loss: 0.3579 - accuracy: 0.8489\n",
            "Epoch 88/120\n",
            "249/249 [==============================] - 0s 2ms/step - loss: 0.3584 - accuracy: 0.8504\n",
            "Epoch 89/120\n",
            "249/249 [==============================] - 0s 2ms/step - loss: 0.3584 - accuracy: 0.8509\n",
            "Epoch 90/120\n",
            "249/249 [==============================] - 1s 2ms/step - loss: 0.3581 - accuracy: 0.8499\n",
            "Epoch 91/120\n",
            "249/249 [==============================] - 0s 2ms/step - loss: 0.3589 - accuracy: 0.8499\n",
            "Epoch 92/120\n",
            "249/249 [==============================] - 0s 2ms/step - loss: 0.3582 - accuracy: 0.8480\n",
            "Epoch 93/120\n",
            "249/249 [==============================] - 0s 2ms/step - loss: 0.3581 - accuracy: 0.8496\n",
            "Epoch 94/120\n",
            "249/249 [==============================] - 1s 2ms/step - loss: 0.3586 - accuracy: 0.8485\n",
            "Epoch 95/120\n",
            "249/249 [==============================] - 1s 3ms/step - loss: 0.3584 - accuracy: 0.8479\n",
            "Epoch 96/120\n",
            "249/249 [==============================] - 1s 3ms/step - loss: 0.3584 - accuracy: 0.8503\n",
            "Epoch 97/120\n",
            "249/249 [==============================] - 1s 3ms/step - loss: 0.3583 - accuracy: 0.8515\n",
            "Epoch 98/120\n",
            "249/249 [==============================] - 1s 3ms/step - loss: 0.3583 - accuracy: 0.8499\n",
            "Epoch 99/120\n",
            "249/249 [==============================] - 1s 2ms/step - loss: 0.3580 - accuracy: 0.8469\n",
            "Epoch 100/120\n",
            "249/249 [==============================] - 0s 2ms/step - loss: 0.3581 - accuracy: 0.8494\n",
            "Epoch 101/120\n",
            "249/249 [==============================] - 0s 2ms/step - loss: 0.3585 - accuracy: 0.8490\n",
            "Epoch 102/120\n",
            "249/249 [==============================] - 0s 2ms/step - loss: 0.3579 - accuracy: 0.8505\n",
            "Epoch 103/120\n",
            "249/249 [==============================] - 1s 2ms/step - loss: 0.3575 - accuracy: 0.8517\n",
            "Epoch 104/120\n",
            "249/249 [==============================] - 1s 2ms/step - loss: 0.3587 - accuracy: 0.8495\n",
            "Epoch 105/120\n",
            "249/249 [==============================] - 0s 2ms/step - loss: 0.3592 - accuracy: 0.8480\n",
            "Epoch 106/120\n",
            "249/249 [==============================] - 0s 2ms/step - loss: 0.3579 - accuracy: 0.8488\n",
            "Epoch 107/120\n",
            "249/249 [==============================] - 0s 2ms/step - loss: 0.3580 - accuracy: 0.8489\n",
            "Epoch 108/120\n",
            "249/249 [==============================] - 1s 2ms/step - loss: 0.3574 - accuracy: 0.8498\n",
            "Epoch 109/120\n",
            "249/249 [==============================] - 0s 2ms/step - loss: 0.3591 - accuracy: 0.8485\n",
            "Epoch 110/120\n",
            "249/249 [==============================] - 1s 2ms/step - loss: 0.3582 - accuracy: 0.8472\n",
            "Epoch 111/120\n",
            "249/249 [==============================] - 1s 2ms/step - loss: 0.3578 - accuracy: 0.8500\n",
            "Epoch 112/120\n",
            "249/249 [==============================] - 1s 2ms/step - loss: 0.3583 - accuracy: 0.8486\n",
            "Epoch 113/120\n",
            "249/249 [==============================] - 0s 2ms/step - loss: 0.3583 - accuracy: 0.8505\n",
            "Epoch 114/120\n",
            "249/249 [==============================] - 1s 2ms/step - loss: 0.3579 - accuracy: 0.8486\n",
            "Epoch 115/120\n",
            "249/249 [==============================] - 0s 2ms/step - loss: 0.3579 - accuracy: 0.8508\n",
            "Epoch 116/120\n",
            "249/249 [==============================] - 1s 2ms/step - loss: 0.3582 - accuracy: 0.8503\n",
            "Epoch 117/120\n",
            "249/249 [==============================] - 0s 2ms/step - loss: 0.3593 - accuracy: 0.8484\n",
            "Epoch 118/120\n",
            "249/249 [==============================] - 1s 3ms/step - loss: 0.3579 - accuracy: 0.8494\n",
            "Epoch 119/120\n",
            "249/249 [==============================] - 1s 3ms/step - loss: 0.3582 - accuracy: 0.8509\n",
            "Epoch 120/120\n",
            "249/249 [==============================] - 1s 3ms/step - loss: 0.3582 - accuracy: 0.8478\n"
          ]
        },
        {
          "output_type": "execute_result",
          "data": {
            "text/plain": [
              "<keras.callbacks.History at 0x7bed80cf1990>"
            ]
          },
          "metadata": {},
          "execution_count": 235
        }
      ]
    },
    {
      "cell_type": "code",
      "source": [
        "print(ann.predict(sc.transform([[0.0,1.0,0.0,501,0,32,2,0.0,4,1,545501]]))>0.5)"
      ],
      "metadata": {
        "colab": {
          "base_uri": "https://localhost:8080/"
        },
        "id": "X9VPXkShxf64",
        "outputId": "1c8efa48-9f95-48ae-fc09-04067a699cbe"
      },
      "execution_count": 236,
      "outputs": [
        {
          "output_type": "stream",
          "name": "stdout",
          "text": [
            "1/1 [==============================] - 0s 83ms/step\n",
            "[[False]]\n"
          ]
        }
      ]
    },
    {
      "cell_type": "code",
      "source": [
        "y_pred=ann.predict(X_test)\n",
        "y_pred=(y_pred>0.5)\n"
      ],
      "metadata": {
        "colab": {
          "base_uri": "https://localhost:8080/"
        },
        "id": "5zQqrHWiyKBh",
        "outputId": "d16c1f99-c76a-480e-f8e2-f1aeb190a59b"
      },
      "execution_count": 237,
      "outputs": [
        {
          "output_type": "stream",
          "name": "stdout",
          "text": [
            "63/63 [==============================] - 0s 1ms/step\n"
          ]
        }
      ]
    },
    {
      "cell_type": "code",
      "source": [
        "print(np.concatenate((y_pred.reshape(len(y_pred),1),y_test.reshape(len(y_test),1)),1))"
      ],
      "metadata": {
        "colab": {
          "base_uri": "https://localhost:8080/"
        },
        "id": "i7AVYpcBBIfT",
        "outputId": "fc9d69ee-b94a-444e-d876-e7139878f81a"
      },
      "execution_count": 238,
      "outputs": [
        {
          "output_type": "stream",
          "name": "stdout",
          "text": [
            "[[0 1]\n",
            " [0 0]\n",
            " [0 0]\n",
            " ...\n",
            " [0 1]\n",
            " [0 0]\n",
            " [0 1]]\n"
          ]
        }
      ]
    },
    {
      "cell_type": "code",
      "source": [
        "from sklearn.metrics import confusion_matrix, accuracy_score\n",
        "cm=confusion_matrix(y_test,y_pred)\n",
        "print(cm)\n",
        "accuracy_score(y_test,y_pred)"
      ],
      "metadata": {
        "colab": {
          "base_uri": "https://localhost:8080/"
        },
        "id": "Aq-7dtXyLaeg",
        "outputId": "fe0b2edf-90d4-425f-9e3d-96c99f54f90d"
      },
      "execution_count": 239,
      "outputs": [
        {
          "output_type": "stream",
          "name": "stdout",
          "text": [
            "[[1505   68]\n",
            " [ 227  186]]\n"
          ]
        },
        {
          "output_type": "execute_result",
          "data": {
            "text/plain": [
              "0.851460221550856"
            ]
          },
          "metadata": {},
          "execution_count": 239
        }
      ]
    },
    {
      "cell_type": "code",
      "source": [],
      "metadata": {
        "id": "r70lhK1xU5Hd"
      },
      "execution_count": null,
      "outputs": []
    }
  ]
}